{
 "cells": [
  {
   "cell_type": "code",
   "execution_count": 1,
   "metadata": {},
   "outputs": [],
   "source": [
    "import numpy as np\n",
    "import pandas as pd\n",
    "import seaborn as sns\n",
    "from functools import partial\n",
    "from polyglot.tokenize import SentenceTokenizer, WordTokenizer\n",
    "from polyglot.base import Sequence\n",
    "import unicodedata\n",
    "from collections import defaultdict, Counter\n",
    "from lxml import html\n",
    "from lxml.html.clean import clean_html\n",
    "import Stemmer\n",
    "from sklearn.feature_extraction.text import CountVectorizer, TfidfVectorizer\n",
    "from sklearn.linear_model import LogisticRegression\n",
    "from matplotlib_venn import venn2, venn2_circles\n",
    "from sklearn.metrics import classification_report, accuracy_score"
   ]
  },
  {
   "cell_type": "code",
   "execution_count": 2,
   "metadata": {},
   "outputs": [],
   "source": [
    "traindata = pd.read_csv(\"../data/train.csv\")\n",
    "testdata_all = pd.read_csv(\"../data/test.csv\")\n",
    "testlabels = pd.read_csv(\"../data/test_labels.csv\")\n",
    "testlabels = testlabels.loc[testlabels[\"toxic\"] != -1]\n",
    "testlabels.head()\n",
    "testdata = pd.merge(testdata_all, testlabels, how=\"inner\")"
   ]
  },
  {
   "cell_type": "code",
   "execution_count": 3,
   "metadata": {},
   "outputs": [
    {
     "data": {
      "text/html": [
       "<div>\n",
       "<style scoped>\n",
       "    .dataframe tbody tr th:only-of-type {\n",
       "        vertical-align: middle;\n",
       "    }\n",
       "\n",
       "    .dataframe tbody tr th {\n",
       "        vertical-align: top;\n",
       "    }\n",
       "\n",
       "    .dataframe thead th {\n",
       "        text-align: right;\n",
       "    }\n",
       "</style>\n",
       "<table border=\"1\" class=\"dataframe\">\n",
       "  <thead>\n",
       "    <tr style=\"text-align: right;\">\n",
       "      <th></th>\n",
       "      <th>id</th>\n",
       "      <th>comment_text</th>\n",
       "      <th>toxic</th>\n",
       "      <th>severe_toxic</th>\n",
       "      <th>obscene</th>\n",
       "      <th>threat</th>\n",
       "      <th>insult</th>\n",
       "      <th>identity_hate</th>\n",
       "    </tr>\n",
       "  </thead>\n",
       "  <tbody>\n",
       "  </tbody>\n",
       "</table>\n",
       "</div>"
      ],
      "text/plain": [
       "Empty DataFrame\n",
       "Columns: [id, comment_text, toxic, severe_toxic, obscene, threat, insult, identity_hate]\n",
       "Index: []"
      ]
     },
     "execution_count": 3,
     "metadata": {},
     "output_type": "execute_result"
    }
   ],
   "source": [
    "traindata[traindata['comment_text'] == \"\"]"
   ]
  },
  {
   "cell_type": "code",
   "execution_count": 4,
   "metadata": {},
   "outputs": [
    {
     "data": {
      "text/plain": [
       "[\"Explanation\\nWhy the edits made under my username Hardcore Metallica Fan were reverted? They weren't vandalisms, just closure on some GAs after I voted at New York Dolls FAC. And please don't remove the template from the talk page since I'm retired now.89.205.38.27\",\n",
       " \"D'aww! He matches this background colour I'm seemingly stuck with. Thanks.  (talk) 21:51, January 11, 2016 (UTC)\",\n",
       " \"Hey man, I'm really not trying to edit war. It's just that this guy is constantly removing relevant information and talking to me through edits instead of my talk page. He seems to care more about the formatting than the actual info.\",\n",
       " '\"\\nMore\\nI can\\'t make any real suggestions on improvement - I wondered if the section statistics should be later on, or a subsection of \"\"types of accidents\"\"  -I think the references may need tidying so that they are all in the exact same format ie date format etc. I can do that later on, if no-one else does first - if you have any preferences for formatting style on references or want to do it yourself please let me know.\\n\\nThere appears to be a backlog on articles for review so I guess there may be a delay until a reviewer turns up. It\\'s listed in the relevant form eg Wikipedia:Good_article_nominations#Transport  \"',\n",
       " \"You, sir, are my hero. Any chance you remember what page that's on?\",\n",
       " '\"\\n\\nCongratulations from me as well, use the tools well. \\xa0· talk \"',\n",
       " 'COCKSUCKER BEFORE YOU PISS AROUND ON MY WORK',\n",
       " \"Your vandalism to the Matt Shirvington article has been reverted.  Please don't do it again, or you will be banned.\",\n",
       " \"Sorry if the word 'nonsense' was offensive to you. Anyway, I'm not intending to write anything in the article(wow they would jump on me for vandalism), I'm merely requesting that it be more encyclopedic so one can use it for school as a reference. I have been to the selective breeding page but it's almost a stub. It points to 'animal breeding' which is a short messy article that gives you no info. There must be someone around with expertise in eugenics? 93.161.107.169\",\n",
       " 'alignment on this subject and which are contrary to those of DuLithgow']"
      ]
     },
     "execution_count": 4,
     "metadata": {},
     "output_type": "execute_result"
    }
   ],
   "source": [
    "list(traindata[\"comment_text\"][:10])"
   ]
  },
  {
   "cell_type": "code",
   "execution_count": 5,
   "metadata": {},
   "outputs": [],
   "source": [
    "word_tokenizer = WordTokenizer(locale=\"en\")\n",
    "stemmer = Stemmer.Stemmer(\"en\")\n",
    "\n",
    "def remove_accents(text):\n",
    "    text = unicodedata.normalize('NFD', text)\n",
    "    text = text.encode('ascii', 'ignore')\n",
    "    text = text.decode(\"utf-8\")\n",
    "    return text\n",
    "\n",
    "# A simplest form of preprocessing.\n",
    "def preprocess(text):\n",
    "    text = remove_accents(text)\n",
    "    text = text.lower()\n",
    "    textlist = word_tokenizer.transform(Sequence(text)).tokens()\n",
    "    textlist = list(filter(lambda x: x.isalpha(), textlist))\n",
    "    return stemmer.stemWords(textlist)\n"
   ]
  },
  {
   "cell_type": "code",
   "execution_count": 6,
   "metadata": {},
   "outputs": [],
   "source": [
    "# We first collect stopwords from our training dataset\n",
    "\n",
    "__vocab = Counter()\n",
    "for i in range(len(traindata)):\n",
    "    __vocab.update(preprocess(traindata.iloc[i]['comment_text']))"
   ]
  },
  {
   "cell_type": "code",
   "execution_count": 7,
   "metadata": {},
   "outputs": [
    {
     "name": "stdout",
     "output_type": "stream",
     "text": [
      "Total words found: 122649\n",
      "Most common word ('the', 496344)\n",
      "200th Most common word ('our', 7011)\n"
     ]
    },
    {
     "data": {
      "image/png": "[encoded data removed]",
      "text/plain": [
       "<Figure size 432x288 with 1 Axes>"
      ]
     },
     "metadata": {
      "needs_background": "light"
     },
     "output_type": "display_data"
    }
   ],
   "source": [
    "most_common_words = __vocab.most_common(200)\n",
    "sns.distplot([x[1] for x in most_common_words])\n",
    "print(\"Total words found: {}\".format(len(__vocab)))\n",
    "print(\"Most common word {}\".format(most_common_words[0]))\n",
    "print(\"200th Most common word {}\".format(most_common_words[-1]))\n",
    "\n",
    "## Also remove words which are one off, most proabably these are names / identifiers\n",
    "__vocab = { word: __vocab[word] for word in __vocab if __vocab[word] > 5 }"
   ]
  },
  {
   "cell_type": "code",
   "execution_count": 8,
   "metadata": {},
   "outputs": [
    {
     "name": "stdout",
     "output_type": "stream",
     "text": [
      "['the', 'to', 'of', 'and', 'a', 'you', 'i', 'is', 'that', 'in', 'it', 'for', 'be', 'this', 'not', 'on', 'as', 'have', 'articl', 'are', 'your', 'with', 'if', 'page', 'was', 'or', 'but', 'my', 'an', 'do', 'from', 'edit', 'by', 'at', 'me', 'about', 'wikipedia', 'so', 'use', 'talk', 'what', 'can', 'there', 'all', 'will', 'has', 'like', 'one', 'pleas', 'would', 'no', 'just', 'they', 'other', 'delet', 'he', 'ani', 'which', 'been', 'thank', 'sourc', 'should', 'more', 'we', 'see', 'some', 'think', 'who', 'here', 'make']\n",
      "Total words in VOCAB 24998\n"
     ]
    }
   ],
   "source": [
    "## Manual observation of most_common_words; From manual observation it seems that the topmost 70\n",
    "## common words can be considered as our stopwords\n",
    "print(\"{}\".format([x[0] for x in most_common_words[:70]]))\n",
    "\n",
    "STOP_WORDS = [x[0] for x in most_common_words[:70]]\n",
    "VOCABList = list(set(__vocab.keys()) - set(STOP_WORDS))\n",
    "VOCAB = dict(zip(VOCABList, range(len(VOCABList))))\n",
    "print(\"Total words in VOCAB {}\".format(len(VOCAB)))"
   ]
  },
  {
   "cell_type": "code",
   "execution_count": 9,
   "metadata": {},
   "outputs": [],
   "source": [
    "## Modification of the preprocess function to account for STOPWORDS\n",
    "\n",
    "def clear_html(text):\n",
    "    ## Html cleaner will throw exception when an incorrect tag formation is detected\n",
    "    ## a 'prompt' like symbol e.g.: '<- '\n",
    "    try:\n",
    "        text = clean_html(html.fromstring(text)).text()\n",
    "    except Exception as e:\n",
    "        pass\n",
    "    return text\n",
    "\n",
    "def preprocess(with_stemmer, text):\n",
    "    text = remove_accents(clear_html(text))\n",
    "    text = text.lower()\n",
    "    textlist = word_tokenizer.transform(Sequence(text)).tokens()\n",
    "    textlist = list(filter(lambda x: x.isalpha() and not(x in STOP_WORDS), textlist))\n",
    "    return stemmer.stemWords(textlist) if with_stemmer else textlist"
   ]
  },
  {
   "cell_type": "code",
   "execution_count": 10,
   "metadata": {},
   "outputs": [],
   "source": [
    "def preprocessjoin(with_stemmer, text):\n",
    "    try:\n",
    "        return \" \".join(preprocess(with_stemmer, text))\n",
    "    except Exception as e:\n",
    "        print(text)\n",
    "\n",
    "traindata['PREPROCESSED'] = traindata['comment_text'].apply(partial(preprocessjoin, True))\n",
    "testdata['PREPROCESSED'] = testdata['comment_text'].apply(partial(preprocessjoin, True))\n",
    "traindata['PREPROCESSED_NOSTEM'] = traindata['comment_text'].apply(partial(preprocessjoin, False))\n",
    "testdata['PREPROCESSED_NOSTEM'] = testdata['comment_text'].apply(partial(preprocessjoin, False))"
   ]
  },
  {
   "cell_type": "code",
   "execution_count": 11,
   "metadata": {},
   "outputs": [
    {
     "data": {
      "image/png": "[encoded data removed]",
      "text/plain": [
       "<Figure size 432x288 with 2 Axes>"
      ]
     },
     "metadata": {
      "needs_background": "light"
     },
     "output_type": "display_data"
    }
   ],
   "source": [
    "COLUMNS = ['toxic', 'severe_toxic', 'threat', 'identity_hate', 'insult', 'obscene']\n",
    "sns.heatmap(traindata[COLUMNS].corr(), annot=True)\n",
    "# Obscene and insult are fairly positively correlated\n",
    "def combine_two_cols(col1, col2, row):\n",
    "    return 1 if (row[col1] == 1 or row[col2] == 1) else 0\n",
    "traindata[\"insult_obscene\"] = traindata.apply(partial(\n",
    "                                                  combine_two_cols, \"insult\", \"obscene\"),\n",
    "                                              axis=1)\n",
    "testdata[\"insult_obscene\"] = testdata.apply(partial(\n",
    "                                                  combine_two_cols, \"insult\", \"obscene\"),\n",
    "                                              axis=1)\n",
    "traindata.head()\n",
    "COLUMNS.remove(\"insult\")\n",
    "COLUMNS.remove(\"obscene\")\n",
    "COLUMNS.append(\"insult_obscene\")"
   ]
  },
  {
   "cell_type": "code",
   "execution_count": 12,
   "metadata": {},
   "outputs": [
    {
     "data": {
      "image/png": "[encoded data removed]",
      "text/plain": [
       "<Figure size 432x288 with 1 Axes>"
      ]
     },
     "metadata": {},
     "output_type": "display_data"
    }
   ],
   "source": [
    "# Display toxic and severe toxic using venn diagrams; ONLY lets comapre for true values\n",
    "def venncompare(col1, col2):\n",
    "    col1set = set(traindata.apply(\n",
    "                       lambda r: (\"{}_{}\".format(r[\"id\"], r[col1])\n",
    "                                  if r[col1] == 1 else \"DONTCARE\"), axis=1))\n",
    "    col2set = set(traindata.apply(\n",
    "                            lambda r: (\"{}_{}\".format(r[\"id\"], r[col2])\n",
    "                                       if r[col2] == 1 else \"DONTCARE\"), axis=1))\n",
    "    venn2([col1set, col2set], set_labels=(col1, col2))\n",
    "venncompare(\"toxic\", \"severe_toxic\")\n",
    "COLUMNS.remove(\"severe_toxic\")"
   ]
  },
  {
   "cell_type": "code",
   "execution_count": 13,
   "metadata": {},
   "outputs": [
    {
     "data": {
      "image/png": "[encoded data removed]",
      "text/plain": [
       "<Figure size 432x288 with 1 Axes>"
      ]
     },
     "metadata": {},
     "output_type": "display_data"
    }
   ],
   "source": [
    "venncompare(\"toxic\", \"insult_obscene\")\n",
    "traindata[\"toxic_new\"] = traindata.apply(partial(\n",
    "                                             combine_two_cols, \"insult_obscene\", \"toxic\"),\n",
    "                                         axis=1)\n",
    "testdata[\"toxic_new\"] = testdata.apply(partial(\n",
    "                                             combine_two_cols, \"insult_obscene\", \"toxic\"),\n",
    "                                         axis=1)\n",
    "traindata.head()\n",
    "COLUMNS.remove(\"insult_obscene\")\n",
    "COLUMNS.remove(\"toxic\")\n",
    "COLUMNS.append(\"toxic_new\")"
   ]
  },
  {
   "cell_type": "code",
   "execution_count": 14,
   "metadata": {},
   "outputs": [
    {
     "data": {
      "image/png": "[encoded data removed]",
      "text/plain": [
       "<Figure size 432x288 with 1 Axes>"
      ]
     },
     "metadata": {},
     "output_type": "display_data"
    }
   ],
   "source": [
    "venncompare(\"threat\", \"identity_hate\")"
   ]
  },
  {
   "cell_type": "code",
   "execution_count": 15,
   "metadata": {},
   "outputs": [
    {
     "data": {
      "image/png": "[encoded data removed]",
      "text/plain": [
       "<Figure size 432x288 with 1 Axes>"
      ]
     },
     "metadata": {},
     "output_type": "display_data"
    }
   ],
   "source": [
    "venncompare(\"threat\", \"toxic_new\")"
   ]
  },
  {
   "cell_type": "code",
   "execution_count": 16,
   "metadata": {},
   "outputs": [
    {
     "data": {
      "image/png": "[encoded data removed]",
      "text/plain": [
       "<Figure size 432x288 with 1 Axes>"
      ]
     },
     "metadata": {},
     "output_type": "display_data"
    }
   ],
   "source": [
    "venncompare(\"identity_hate\", \"toxic_new\")"
   ]
  },
  {
   "cell_type": "code",
   "execution_count": 17,
   "metadata": {},
   "outputs": [],
   "source": [
    "traindata[\"toxic_all\"] = traindata.apply(partial(\n",
    "                                             combine_two_cols, \"identity_hate\", \"toxic_new\"),\n",
    "                                         axis=1)\n",
    "traindata[\"toxic_all\"] = traindata.apply(partial(\n",
    "                                             combine_two_cols, \"threat\", \"toxic_all\"),\n",
    "                                         axis=1)\n",
    "testdata[\"toxic_all\"] = testdata.apply(partial(\n",
    "                                             combine_two_cols, \"identity_hate\", \"toxic_new\"),\n",
    "                                         axis=1)\n",
    "testdata[\"toxic_all\"] = testdata.apply(partial(\n",
    "                                             combine_two_cols, \"threat\", \"toxic_all\"),\n",
    "                                         axis=1)"
   ]
  },
  {
   "cell_type": "code",
   "execution_count": 18,
   "metadata": {},
   "outputs": [
    {
     "name": "stderr",
     "output_type": "stream",
     "text": [
      "/home/synerzip/python/feedbackcontent/.env/lib/python3.5/site-packages/sklearn/svm/base.py:931: ConvergenceWarning: Liblinear failed to converge, increase the number of iterations.\n",
      "  \"the number of iterations.\", ConvergenceWarning)\n"
     ]
    },
    {
     "name": "stdout",
     "output_type": "stream",
     "text": [
      "              precision    recall  f1-score   support\n",
      "\n",
      "           0       0.97      0.95      0.96     57735\n",
      "           1       0.60      0.69      0.65      6243\n",
      "\n",
      "   micro avg       0.93      0.93      0.93     63978\n",
      "   macro avg       0.78      0.82      0.80     63978\n",
      "weighted avg       0.93      0.93      0.93     63978\n",
      "\n"
     ]
    }
   ],
   "source": [
    "## Simple Count LR over the vocab\n",
    "vectorizer = CountVectorizer(vocabulary=VOCAB)\n",
    "X = vectorizer.fit_transform(traindata['PREPROCESSED'])\n",
    "lr = LogisticRegression(random_state=42, solver='liblinear', max_iter=600)\n",
    "lr.fit(X, traindata[\"toxic_all\"])\n",
    "Xtest = vectorizer.transform(testdata['PREPROCESSED'])\n",
    "print(classification_report(testdata[\"toxic_all\"], lr.predict(Xtest)))"
   ]
  },
  {
   "cell_type": "code",
   "execution_count": 19,
   "metadata": {},
   "outputs": [
    {
     "name": "stdout",
     "output_type": "stream",
     "text": [
      "              precision    recall  f1-score   support\n",
      "\n",
      "           0       0.97      0.95      0.96     57735\n",
      "           1       0.63      0.74      0.68      6243\n",
      "\n",
      "   micro avg       0.93      0.93      0.93     63978\n",
      "   macro avg       0.80      0.85      0.82     63978\n",
      "weighted avg       0.94      0.93      0.94     63978\n",
      "\n",
      "              precision    recall  f1-score   support\n",
      "\n",
      "           0       0.96      1.00      0.98    143346\n",
      "           1       0.94      0.67      0.78     16225\n",
      "\n",
      "   micro avg       0.96      0.96      0.96    159571\n",
      "   macro avg       0.95      0.83      0.88    159571\n",
      "weighted avg       0.96      0.96      0.96    159571\n",
      "\n"
     ]
    },
    {
     "data": {
      "text/plain": [
       "0.961904105382557"
      ]
     },
     "execution_count": 19,
     "metadata": {},
     "output_type": "execute_result"
    }
   ],
   "source": [
    "vectorizer = TfidfVectorizer(vocabulary=VOCAB)\n",
    "X = vectorizer.fit_transform(traindata['PREPROCESSED'])\n",
    "lr = LogisticRegression(random_state=42, solver='liblinear', max_iter=500)\n",
    "lr.fit(X, traindata[\"toxic_all\"])\n",
    "Xtest = vectorizer.transform(testdata['PREPROCESSED'])\n",
    "print(classification_report(testdata[\"toxic_all\"], lr.predict(Xtest)))\n",
    "print(classification_report(traindata[\"toxic_all\"], lr.predict(X)))\n",
    "accuracy_score(traindata[\"toxic_all\"], lr.predict(X))"
   ]
  },
  {
   "cell_type": "code",
   "execution_count": 20,
   "metadata": {},
   "outputs": [
    {
     "name": "stdout",
     "output_type": "stream",
     "text": [
      "              precision    recall  f1-score   support\n",
      "\n",
      "           0       0.97      0.95      0.96     57735\n",
      "           1       0.63      0.74      0.68      6243\n",
      "\n",
      "   micro avg       0.93      0.93      0.93     63978\n",
      "   macro avg       0.80      0.85      0.82     63978\n",
      "weighted avg       0.94      0.93      0.94     63978\n",
      "\n",
      "              precision    recall  f1-score   support\n",
      "\n",
      "           0       0.96      1.00      0.98    143346\n",
      "           1       0.94      0.67      0.78     16225\n",
      "\n",
      "   micro avg       0.96      0.96      0.96    159571\n",
      "   macro avg       0.95      0.83      0.88    159571\n",
      "weighted avg       0.96      0.96      0.96    159571\n",
      "\n"
     ]
    },
    {
     "data": {
      "text/plain": [
       "0.961904105382557"
      ]
     },
     "execution_count": 20,
     "metadata": {},
     "output_type": "execute_result"
    }
   ],
   "source": [
    "vectorizer = TfidfVectorizer(vocabulary=VOCAB, ngram_range=(1,3), analyzer='word', max_features=10000)\n",
    "X = vectorizer.fit_transform(traindata['PREPROCESSED'])\n",
    "lr = LogisticRegression(random_state=42, solver='liblinear', max_iter=500)\n",
    "lr.fit(X, traindata[\"toxic_all\"])\n",
    "Xtest = vectorizer.transform(testdata['PREPROCESSED'])\n",
    "print(classification_report(testdata[\"toxic_all\"], lr.predict(Xtest)))\n",
    "print(classification_report(traindata[\"toxic_all\"], lr.predict(X)))\n",
    "accuracy_score(traindata[\"toxic_all\"], lr.predict(X))"
   ]
  },
  {
   "cell_type": "code",
   "execution_count": 21,
   "metadata": {},
   "outputs": [
    {
     "name": "stdout",
     "output_type": "stream",
     "text": [
      "              precision    recall  f1-score   support\n",
      "\n",
      "           0       0.96      0.96      0.96     57735\n",
      "           1       0.62      0.64      0.63      6243\n",
      "\n",
      "   micro avg       0.93      0.93      0.93     63978\n",
      "   macro avg       0.79      0.80      0.80     63978\n",
      "weighted avg       0.93      0.93      0.93     63978\n",
      "\n",
      "              precision    recall  f1-score   support\n",
      "\n",
      "           0       0.96      0.99      0.97    143346\n",
      "           1       0.92      0.59      0.72     16225\n",
      "\n",
      "   micro avg       0.95      0.95      0.95    159571\n",
      "   macro avg       0.94      0.79      0.85    159571\n",
      "weighted avg       0.95      0.95      0.95    159571\n",
      "\n"
     ]
    },
    {
     "data": {
      "text/plain": [
       "0.9529864449054026"
      ]
     },
     "execution_count": 21,
     "metadata": {},
     "output_type": "execute_result"
    }
   ],
   "source": [
    "vectorizer = TfidfVectorizer(vocabulary=VOCAB, ngram_range=(1,3), analyzer='word', max_features=10000)\n",
    "X = vectorizer.fit_transform(traindata['PREPROCESSED_NOSTEM'])\n",
    "lr = LogisticRegression(random_state=42, solver='liblinear', max_iter=500)\n",
    "lr.fit(X, traindata[\"toxic_all\"])\n",
    "Xtest = vectorizer.transform(testdata['PREPROCESSED_NOSTEM'])\n",
    "print(classification_report(testdata[\"toxic_all\"], lr.predict(Xtest)))\n",
    "print(classification_report(traindata[\"toxic_all\"], lr.predict(X)))\n",
    "accuracy_score(traindata[\"toxic_all\"], lr.predict(X))"
   ]
  },
  {
   "cell_type": "code",
   "execution_count": 22,
   "metadata": {},
   "outputs": [
    {
     "name": "stdout",
     "output_type": "stream",
     "text": [
      "              precision    recall  f1-score   support\n",
      "\n",
      "           0       0.97      0.95      0.96     57735\n",
      "           1       0.63      0.74      0.68      6243\n",
      "\n",
      "   micro avg       0.93      0.93      0.93     63978\n",
      "   macro avg       0.80      0.85      0.82     63978\n",
      "weighted avg       0.94      0.93      0.94     63978\n",
      "\n",
      "              precision    recall  f1-score   support\n",
      "\n",
      "           0       0.96      1.00      0.98    143346\n",
      "           1       0.94      0.67      0.78     16225\n",
      "\n",
      "   micro avg       0.96      0.96      0.96    159571\n",
      "   macro avg       0.95      0.83      0.88    159571\n",
      "weighted avg       0.96      0.96      0.96    159571\n",
      "\n"
     ]
    },
    {
     "data": {
      "text/plain": [
       "0.961904105382557"
      ]
     },
     "execution_count": 22,
     "metadata": {},
     "output_type": "execute_result"
    }
   ],
   "source": [
    "# Lets select one with better Recall\n",
    "\n",
    "vectorizer = TfidfVectorizer(vocabulary=VOCAB, analyzer='word', max_features=10000)\n",
    "X = vectorizer.fit_transform(traindata['PREPROCESSED'])\n",
    "lr = LogisticRegression(random_state=42, solver='liblinear', max_iter=500)\n",
    "lr.fit(X, traindata[\"toxic_all\"])\n",
    "Xtest = vectorizer.transform(testdata['PREPROCESSED'])\n",
    "print(classification_report(testdata[\"toxic_all\"], lr.predict(Xtest)))\n",
    "print(classification_report(traindata[\"toxic_all\"], lr.predict(X)))\n",
    "accuracy_score(traindata[\"toxic_all\"], lr.predict(X))"
   ]
  },
  {
   "cell_type": "code",
   "execution_count": 47,
   "metadata": {},
   "outputs": [],
   "source": [
    "model = {\n",
    "    \"stop_words\": STOP_WORDS,\n",
    "    \"vocab\": np.asarray(list(VOCAB.keys())),\n",
    "    \"intercept\": lr.intercept_,\n",
    "    \"idf_\": vectorizer.idf_,\n",
    "    \"lr\": lr.coef_.flatten(),\n",
    "    \"vectorizer\": [vectorizer]\n",
    "}\n",
    "# print(model)\n",
    "np.savez(\"../feedbackcontent/model/baseline\", **model)"
   ]
  }
 ],
 "metadata": {
  "kernelspec": {
   "display_name": "Python 3",
   "language": "python",
   "name": "python3"
  },
  "language_info": {
   "codemirror_mode": {
    "name": "ipython",
    "version": 3
   },
   "file_extension": ".py",
   "mimetype": "text/x-python",
   "name": "python",
   "nbconvert_exporter": "python",
   "pygments_lexer": "ipython3",
   "version": "3.5.2"
  }
 },
 "nbformat": 4,
 "nbformat_minor": 2
}
